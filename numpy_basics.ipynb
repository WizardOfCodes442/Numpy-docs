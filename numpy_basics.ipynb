{
  "nbformat": 4,
  "nbformat_minor": 0,
  "metadata": {
    "colab": {
      "provenance": [],
      "toc_visible": true,
      "authorship_tag": "ABX9TyPcE9kCfSLRRDlZXfcickYn"
    },
    "kernelspec": {
      "name": "python3",
      "display_name": "Python 3"
    },
    "language_info": {
      "name": "python"
    }
  },
  "cells": [
    {
      "cell_type": "code",
      "execution_count": null,
      "metadata": {
        "id": "N44CqF5udJCa"
      },
      "outputs": [],
      "source": [
        "import numpy as np\n",
        "\n",
        "np.random.seed(0) #seed for reproductibility\n",
        "\n",
        "x1 = np.random.randint(10, size=6) #One dimensional array\n",
        "x2 = np.random.randint(10, size=(3,4)) #Two dimensional array\n",
        "x3 = np.random.randint(10, size=(3,4, 5)) #Three-dimensional array\n",
        "\n",
        "#Each array has attributes ndim( the number of dimensions), shape (the size of each dimension)\n",
        "#and size (the total of the array):\n",
        "\n",
        "print(\"x3 ndim: \",x3.ndim )\n",
        "print(\"x3 shape\", x3.shape)\n",
        "print(\"x3 size \", x3.size)\n",
        "\n",
        "#another useful attributes is the dtype\n",
        "print(\"dtype:\", x3.dtype)\n",
        "\n",
        "\n",
        "#other attribute include itemsize, which lists the size (in bytes ) of each array\n",
        "#element, and nbytes, which lists the total size (in bytes ) of the array:\n",
        "\n",
        "print(\"itemsize:\", x3.itemsize, \"bytes\")\n",
        "print(\"nbytes:\", x3.nbytes, \"bytes\")\n",
        "\n",
        "#Array Indexing : Accessing Single Elements\n",
        "x1 = np.array([5,0,3, 4, 7, 9])\n",
        "x1[0]\n",
        "x1[4]\n",
        "\n",
        "#to index from the end you can use negative index\n",
        "x1[-1]\n",
        "x1[-2]\n",
        "\n",
        "#in a multimodal array you access items using a comma seperated tuple of indices\n",
        "x2 = np.array([\n",
        "    [3, 5, 2, 4],\n",
        "    [7, 6, 8, 8],\n",
        "    [1, 6, 7, 7]\n",
        "    ])\n",
        "x2[0, 0]\n",
        "x2[2, 0]\n",
        "x[2, -1]\n",
        "\n",
        "#you can also modify values using any of the abaove index notation:\n",
        "x2[0, 0] = 12\n",
        "\n",
        "#we also use the square brackets to access sub array by using colon between\n",
        "#indices instaed of a comma\n",
        "#x[start:stop:step], if any of these are unspecified, they are default to\n",
        "#values start=0, stop=size of dimension, step =1.\n",
        "\n",
        "#One dimensional subbarrays\n",
        "x =np.arange(10)\n",
        "x[:5] #first five elements\n",
        "x[5:] #elements after index 5\n",
        "x[4:7] #middle subarray\n",
        "x[::2] #every element with step 2\n",
        "x[1::2] # every other element starting at index 1"
      ]
    }
  ]
}