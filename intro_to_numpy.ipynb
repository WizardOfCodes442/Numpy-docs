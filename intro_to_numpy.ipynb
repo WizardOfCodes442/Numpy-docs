{
  "nbformat": 4,
  "nbformat_minor": 0,
  "metadata": {
    "colab": {
      "provenance": [],
      "authorship_tag": "ABX9TyNsSiARoC00bdIbk/J6S/7h",
      "include_colab_link": true
    },
    "kernelspec": {
      "name": "python3",
      "display_name": "Python 3"
    },
    "language_info": {
      "name": "python"
    }
  },
  "cells": [
    {
      "cell_type": "markdown",
      "metadata": {
        "id": "view-in-github",
        "colab_type": "text"
      },
      "source": [
        "<a href=\"https://colab.research.google.com/github/WizardOfCodes442/Numpy-docs/blob/main/intro_to_numpy.ipynb\" target=\"_parent\"><img src=\"https://colab.research.google.com/assets/colab-badge.svg\" alt=\"Open In Colab\"/></a>"
      ]
    },
    {
      "cell_type": "code",
      "execution_count": null,
      "metadata": {
        "id": "F0ulYjzN_1UY"
      },
      "outputs": [],
      "source": [
        "import numpy as np\n",
        "import array\n",
        "#progressing by understanding the basic of python list\n",
        "L = list(range(10))\n",
        "typeL(L[0])\n",
        "\n",
        "#or similarly  a list of strings\n",
        "L2 = [stc(c) for c in L]\n",
        "\n",
        "#we can also create heterogeneous list\n",
        "L3 = [True, \"2\", 3.0, 4]\n",
        "[type (item) for itemn in L3]\n",
        "\n",
        "#creating fixed array using python array\n",
        "L = list(range(10))\n",
        "A = array.array('i', L)\n",
        "A\n",
        "\n",
        "#now exploring several ways of creating nd arrays\n",
        "#first we can use np.array to create arrays from python lists:\n",
        "#integer array\n",
        "np.array([1,4,2,5,3])"
      ]
    },
    {
      "cell_type": "code",
      "source": [],
      "metadata": {
        "id": "fWOOiuZyACId"
      },
      "execution_count": null,
      "outputs": []
    },
    {
      "cell_type": "markdown",
      "source": [
        "\n",
        "\n",
        "```\n",
        "# This is formatted as code\n",
        "```\n",
        "\n"
      ],
      "metadata": {
        "id": "ULEBCIqEAGiV"
      }
    }
  ]
}