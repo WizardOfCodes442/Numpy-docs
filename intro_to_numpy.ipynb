{
  "nbformat": 4,
  "nbformat_minor": 0,
  "metadata": {
    "colab": {
      "provenance": [],
      "authorship_tag": "ABX9TyMBbxPYP9tBOgPgdvLYolQy",
      "include_colab_link": true
    },
    "kernelspec": {
      "name": "python3",
      "display_name": "Python 3"
    },
    "language_info": {
      "name": "python"
    }
  },
  "cells": [
    {
      "cell_type": "markdown",
      "metadata": {
        "id": "view-in-github",
        "colab_type": "text"
      },
      "source": [
        "<a href=\"https://colab.research.google.com/github/WizardOfCodes442/Numpy-docs/blob/main/intro_to_numpy.ipynb\" target=\"_parent\"><img src=\"https://colab.research.google.com/assets/colab-badge.svg\" alt=\"Open In Colab\"/></a>"
      ]
    },
    {
      "cell_type": "code",
      "execution_count": 5,
      "metadata": {
        "colab": {
          "base_uri": "https://localhost:8080/"
        },
        "id": "F0ulYjzN_1UY",
        "outputId": "8a7f2d0c-f69e-433d-95f3-0a8f09f9858d"
      },
      "outputs": [
        {
          "output_type": "execute_result",
          "data": {
            "text/plain": [
              "array([0. , 0.5, 1. ])"
            ]
          },
          "metadata": {},
          "execution_count": 5
        }
      ],
      "source": [
        "import numpy as np\n",
        "import array\n",
        "#progressing by understanding the basic of python list\n",
        "L = list(range(10))\n",
        "type(L[0])\n",
        "\n",
        "#or similarly  a list of strings\n",
        "L2 = [str(c) for c in L]\n",
        "\n",
        "#we can also create heterogeneous list\n",
        "L3 = [True, \"2\", 3.0, 4]\n",
        "[type (item) for item in L3]\n",
        "\n",
        "#creating fixed array using python array\n",
        "L = list(range(10))\n",
        "A = array.array('i', L)\n",
        "A\n",
        "\n",
        "#now exploring several ways of creating nd arrays\n",
        "#first we can use np.array to create arrays from python lists:\n",
        "#integer array\n",
        "np.array([1,4,2,5,3])\n",
        "\n",
        "#numpy is constrained to arrays of same type\n",
        "#if the types do not match but are similar\n",
        "#numpy will upcast or downcast as needed.\n",
        "np.array([3.14, 4, 2, 3])\n",
        "\n",
        "#we can use dtype to explicitly set the type of the array\n",
        "np.array([1,2,3,4], dtype='float32')\n",
        "\n",
        "#nested lists result in multidimensional arrays\n",
        "np.array([range(i, i+3) for i in [2,4, 6]])\n",
        "#The inner lists are treated as rows of the resulting two dimensional array\n",
        "\n",
        "#Creating Arrays from scratch\n",
        "#especially for larger arrays, it is more effecient to create arrays from scratch\n",
        "#using routines built into Numpy.\n",
        "\n",
        "#create a length-10 integer array filled with zeros\n",
        "np.zeros(10, dtype=int)\n",
        "\n",
        "#create 3x5 floating-point array filled with 1s\n",
        "np.ones((3,5), dtype=float)\n",
        "\n",
        "#create a 3x5 array filled with 3.14\n",
        "np.full((3,5), 3.14)\n",
        "\n",
        "#create an array filled with a linear sequence\n",
        "#Starting at 0, endiong at 20, steppping by 2\n",
        "#this is similar to built-in-range()\n",
        "np.arange(0, 20, 2)\n",
        "\n",
        "#create an array of five values evenly spaced between 0 and 1\n",
        "np.linspace(0, 1, 5)\n",
        "\n",
        "#create a 3x3 array of normally distributed random values\n",
        "#with mean 0 and stardard deviation 1\n",
        "np.random.normal(0,1, (3,3))\n",
        "\n",
        "\n",
        "#create an array of five values evenly spaced between 0 and 1\n",
        "np.linspace(0, 1, 5)\n",
        "\n",
        "#create a 3x3 array of five values evenly spaced between 0 and 1\n",
        "np.random.random((3, 3))\n",
        "\n",
        "#create a 3x 3 array of normally distributed random values\n",
        "#with mean 0 and standard deviation 1\n",
        "np.random.normal(0, 1, (3, 3))\n",
        "\n",
        "#create a 3x3 identity matrix\n",
        "np.eye(3)\n",
        "\n",
        "#create an uninitialized array of three integers\n",
        "#The values will be whatever happens to exist at that\n",
        "#memory location\n",
        "np.empty(3)\n",
        "\n",
        "\n"
      ]
    },
    {
      "cell_type": "code",
      "source": [],
      "metadata": {
        "id": "-abxYCRLbY_P"
      },
      "execution_count": null,
      "outputs": []
    },
    {
      "cell_type": "code",
      "source": [],
      "metadata": {
        "id": "fWOOiuZyACId"
      },
      "execution_count": null,
      "outputs": []
    },
    {
      "cell_type": "markdown",
      "source": [
        "\n",
        "\n",
        "```\n",
        "# This is formatted as code\n",
        "```\n",
        "\n"
      ],
      "metadata": {
        "id": "ULEBCIqEAGiV"
      }
    }
  ]
}